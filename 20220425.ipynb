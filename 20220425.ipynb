{
  "nbformat": 4,
  "nbformat_minor": 0,
  "metadata": {
    "colab": {
      "name": "Untitled4.ipynb",
      "provenance": [],
      "authorship_tag": "ABX9TyMEDECjD0fqp5+KjlM+5No8",
      "include_colab_link": true
    },
    "kernelspec": {
      "name": "python3",
      "display_name": "Python 3"
    },
    "language_info": {
      "name": "python"
    }
  },
  "cells": [
    {
      "cell_type": "markdown",
      "metadata": {
        "id": "view-in-github",
        "colab_type": "text"
      },
      "source": [
        "<a href=\"https://colab.research.google.com/github/Jimin0726/class2022Spring/blob/main/20220425.ipynb\" target=\"_parent\"><img src=\"https://colab.research.google.com/assets/colab-badge.svg\" alt=\"Open In Colab\"/></a>"
      ]
    },
    {
      "cell_type": "markdown",
      "source": [
        "Auto Correlation\n"
      ],
      "metadata": {
        "id": "La4XbnNvT0XJ"
      }
    },
    {
      "cell_type": "markdown",
      "source": [
        "-가려진 신호, 누락된 기본주파수를 식별하기 위한 도구\n"
      ],
      "metadata": {
        "id": "H-a0RC9hWFM_"
      }
    },
    {
      "cell_type": "markdown",
      "source": [
        "\n",
        "-두 연속적인 시간 사이에 있는 변수들의 상관 정도를 알아봄"
      ],
      "metadata": {
        "id": "1ZWbzREsWIY-"
      }
    },
    {
      "cell_type": "markdown",
      "source": [
        "-시차 값 사이의 선형 관계를 측정하는 것\n"
      ],
      "metadata": {
        "id": "33Mvc11iWCXo"
      }
    },
    {
      "cell_type": "markdown",
      "source": [
        "Root mean Square"
      ],
      "metadata": {
        "id": "UP6wtc8uT17K"
      }
    },
    {
      "cell_type": "markdown",
      "source": [
        "-변화하는 값의 크기에 대해 이야기하는 척도임"
      ],
      "metadata": {
        "id": "Unp2Wji7XKhX"
      }
    },
    {
      "cell_type": "markdown",
      "source": [
        "-변수들이 음, 양을 오고갈 때 쓰기 유용한 도구 "
      ],
      "metadata": {
        "id": "Y43UDPNrV9O-"
      }
    },
    {
      "cell_type": "markdown",
      "source": [
        "-값들의 제곱에 대한 평균의 제곱근"
      ],
      "metadata": {
        "id": "69ikH7VIXXVQ"
      }
    }
  ]
}