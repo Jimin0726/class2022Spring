{
  "nbformat": 4,
  "nbformat_minor": 0,
  "metadata": {
    "colab": {
      "name": "requests_gradio.ipynb",
      "provenance": [],
      "include_colab_link": true
    },
    "kernelspec": {
      "name": "python3",
      "display_name": "Python 3"
    },
    "language_info": {
      "name": "python"
    }
  },
  "cells": [
    {
      "cell_type": "markdown",
      "metadata": {
        "id": "view-in-github",
        "colab_type": "text"
      },
      "source": [
        "<a href=\"https://colab.research.google.com/github/Jimin0726/class2022Spring/blob/main/requests_gradio.ipynb\" target=\"_parent\"><img src=\"https://colab.research.google.com/assets/colab-badge.svg\" alt=\"Open In Colab\"/></a>"
      ]
    },
    {
      "cell_type": "code",
      "source": [
        "!pip install gradio\n",
        "import gradio as gr\n",
        "import requests\n",
        "import pandas as pd"
      ],
      "metadata": {
        "id": "8eZHGJhmqd9a",
        "outputId": "72901a41-839b-4f29-ccb9-6d36511e92e3",
        "colab": {
          "base_uri": "https://localhost:8080/"
        }
      },
      "execution_count": 40,
      "outputs": [
        {
          "output_type": "stream",
          "name": "stdout",
          "text": [
            "Requirement already satisfied: gradio in /usr/local/lib/python3.7/dist-packages (2.9.1)\n",
            "Requirement already satisfied: pycryptodome in /usr/local/lib/python3.7/dist-packages (from gradio) (3.14.1)\n",
            "Requirement already satisfied: fastapi in /usr/local/lib/python3.7/dist-packages (from gradio) (0.75.1)\n",
            "Requirement already satisfied: ffmpy in /usr/local/lib/python3.7/dist-packages (from gradio) (0.3.0)\n",
            "Requirement already satisfied: orjson in /usr/local/lib/python3.7/dist-packages (from gradio) (3.6.7)\n",
            "Requirement already satisfied: markdown-it-py[linkify,plugins] in /usr/local/lib/python3.7/dist-packages (from gradio) (2.0.1)\n",
            "Requirement already satisfied: matplotlib in /usr/local/lib/python3.7/dist-packages (from gradio) (3.2.2)\n",
            "Requirement already satisfied: pandas in /usr/local/lib/python3.7/dist-packages (from gradio) (1.3.5)\n",
            "Requirement already satisfied: python-multipart in /usr/local/lib/python3.7/dist-packages (from gradio) (0.0.5)\n",
            "Requirement already satisfied: pydub in /usr/local/lib/python3.7/dist-packages (from gradio) (0.25.1)\n",
            "Requirement already satisfied: requests in /usr/local/lib/python3.7/dist-packages (from gradio) (2.23.0)\n",
            "Requirement already satisfied: analytics-python in /usr/local/lib/python3.7/dist-packages (from gradio) (1.4.0)\n",
            "Requirement already satisfied: aiohttp in /usr/local/lib/python3.7/dist-packages (from gradio) (3.8.1)\n",
            "Requirement already satisfied: numpy in /usr/local/lib/python3.7/dist-packages (from gradio) (1.21.5)\n",
            "Requirement already satisfied: uvicorn in /usr/local/lib/python3.7/dist-packages (from gradio) (0.17.6)\n",
            "Requirement already satisfied: pillow in /usr/local/lib/python3.7/dist-packages (from gradio) (7.1.2)\n",
            "Requirement already satisfied: paramiko in /usr/local/lib/python3.7/dist-packages (from gradio) (2.10.3)\n",
            "Requirement already satisfied: typing-extensions>=3.7.4 in /usr/local/lib/python3.7/dist-packages (from aiohttp->gradio) (3.10.0.2)\n",
            "Requirement already satisfied: charset-normalizer<3.0,>=2.0 in /usr/local/lib/python3.7/dist-packages (from aiohttp->gradio) (2.0.12)\n",
            "Requirement already satisfied: yarl<2.0,>=1.0 in /usr/local/lib/python3.7/dist-packages (from aiohttp->gradio) (1.7.2)\n",
            "Requirement already satisfied: frozenlist>=1.1.1 in /usr/local/lib/python3.7/dist-packages (from aiohttp->gradio) (1.3.0)\n",
            "Requirement already satisfied: asynctest==0.13.0 in /usr/local/lib/python3.7/dist-packages (from aiohttp->gradio) (0.13.0)\n",
            "Requirement already satisfied: aiosignal>=1.1.2 in /usr/local/lib/python3.7/dist-packages (from aiohttp->gradio) (1.2.0)\n",
            "Requirement already satisfied: multidict<7.0,>=4.5 in /usr/local/lib/python3.7/dist-packages (from aiohttp->gradio) (6.0.2)\n",
            "Requirement already satisfied: attrs>=17.3.0 in /usr/local/lib/python3.7/dist-packages (from aiohttp->gradio) (21.4.0)\n",
            "Requirement already satisfied: async-timeout<5.0,>=4.0.0a3 in /usr/local/lib/python3.7/dist-packages (from aiohttp->gradio) (4.0.2)\n",
            "Requirement already satisfied: idna>=2.0 in /usr/local/lib/python3.7/dist-packages (from yarl<2.0,>=1.0->aiohttp->gradio) (2.10)\n",
            "Requirement already satisfied: python-dateutil>2.1 in /usr/local/lib/python3.7/dist-packages (from analytics-python->gradio) (2.8.2)\n",
            "Requirement already satisfied: monotonic>=1.5 in /usr/local/lib/python3.7/dist-packages (from analytics-python->gradio) (1.6)\n",
            "Requirement already satisfied: backoff==1.10.0 in /usr/local/lib/python3.7/dist-packages (from analytics-python->gradio) (1.10.0)\n",
            "Requirement already satisfied: six>=1.5 in /usr/local/lib/python3.7/dist-packages (from analytics-python->gradio) (1.15.0)\n",
            "Requirement already satisfied: chardet<4,>=3.0.2 in /usr/local/lib/python3.7/dist-packages (from requests->gradio) (3.0.4)\n",
            "Requirement already satisfied: certifi>=2017.4.17 in /usr/local/lib/python3.7/dist-packages (from requests->gradio) (2021.10.8)\n",
            "Requirement already satisfied: urllib3!=1.25.0,!=1.25.1,<1.26,>=1.21.1 in /usr/local/lib/python3.7/dist-packages (from requests->gradio) (1.24.3)\n",
            "Requirement already satisfied: starlette==0.17.1 in /usr/local/lib/python3.7/dist-packages (from fastapi->gradio) (0.17.1)\n",
            "Requirement already satisfied: pydantic!=1.7,!=1.7.1,!=1.7.2,!=1.7.3,!=1.8,!=1.8.1,<2.0.0,>=1.6.2 in /usr/local/lib/python3.7/dist-packages (from fastapi->gradio) (1.9.0)\n",
            "Requirement already satisfied: anyio<4,>=3.0.0 in /usr/local/lib/python3.7/dist-packages (from starlette==0.17.1->fastapi->gradio) (3.5.0)\n",
            "Requirement already satisfied: sniffio>=1.1 in /usr/local/lib/python3.7/dist-packages (from anyio<4,>=3.0.0->starlette==0.17.1->fastapi->gradio) (1.2.0)\n",
            "Requirement already satisfied: mdurl~=0.1 in /usr/local/lib/python3.7/dist-packages (from markdown-it-py[linkify,plugins]->gradio) (0.1.0)\n",
            "Requirement already satisfied: linkify-it-py~=1.0 in /usr/local/lib/python3.7/dist-packages (from markdown-it-py[linkify,plugins]->gradio) (1.0.3)\n",
            "Requirement already satisfied: mdit-py-plugins in /usr/local/lib/python3.7/dist-packages (from markdown-it-py[linkify,plugins]->gradio) (0.3.0)\n",
            "Requirement already satisfied: uc-micro-py in /usr/local/lib/python3.7/dist-packages (from linkify-it-py~=1.0->markdown-it-py[linkify,plugins]->gradio) (1.0.1)\n",
            "Requirement already satisfied: cycler>=0.10 in /usr/local/lib/python3.7/dist-packages (from matplotlib->gradio) (0.11.0)\n",
            "Requirement already satisfied: kiwisolver>=1.0.1 in /usr/local/lib/python3.7/dist-packages (from matplotlib->gradio) (1.4.0)\n",
            "Requirement already satisfied: pyparsing!=2.0.4,!=2.1.2,!=2.1.6,>=2.0.1 in /usr/local/lib/python3.7/dist-packages (from matplotlib->gradio) (3.0.7)\n",
            "Requirement already satisfied: pytz>=2017.3 in /usr/local/lib/python3.7/dist-packages (from pandas->gradio) (2018.9)\n",
            "Requirement already satisfied: cryptography>=2.5 in /usr/local/lib/python3.7/dist-packages (from paramiko->gradio) (36.0.2)\n",
            "Requirement already satisfied: bcrypt>=3.1.3 in /usr/local/lib/python3.7/dist-packages (from paramiko->gradio) (3.2.0)\n",
            "Requirement already satisfied: pynacl>=1.0.1 in /usr/local/lib/python3.7/dist-packages (from paramiko->gradio) (1.5.0)\n",
            "Requirement already satisfied: cffi>=1.1 in /usr/local/lib/python3.7/dist-packages (from bcrypt>=3.1.3->paramiko->gradio) (1.15.0)\n",
            "Requirement already satisfied: pycparser in /usr/local/lib/python3.7/dist-packages (from cffi>=1.1->bcrypt>=3.1.3->paramiko->gradio) (2.21)\n",
            "Requirement already satisfied: asgiref>=3.4.0 in /usr/local/lib/python3.7/dist-packages (from uvicorn->gradio) (3.5.0)\n",
            "Requirement already satisfied: h11>=0.8 in /usr/local/lib/python3.7/dist-packages (from uvicorn->gradio) (0.13.0)\n",
            "Requirement already satisfied: click>=7.0 in /usr/local/lib/python3.7/dist-packages (from uvicorn->gradio) (7.1.2)\n"
          ]
        }
      ]
    },
    {
      "cell_type": "code",
      "source": [
        "URL = ('http://apis.data.go.kr/5380000/ys-population/'\n",
        "      'region?'\n",
        "      'cl_han_code=33000'\n",
        "      '&start_ym=202001'\n",
        "      '&end_ym=202012'\n",
        "      '&pageNo=1'\n",
        "      '&numOfRows=10'\n",
        "      '&ServiceKey=Lj3CsScBAGAldSaMqptB75vKtCrfm%2Fv%2FmlW2hnz0Waaz4OanXTxutngKbC8OLGBkwAM90QbdRw%2Bzi1bF6BN3bA%3D%3D')\n",
        "response = requests.get(URL)"
      ],
      "metadata": {
        "id": "7EiBgZoqPI8V"
      },
      "execution_count": 83,
      "outputs": []
    },
    {
      "cell_type": "code",
      "source": [
        "response"
      ],
      "metadata": {
        "id": "kSgISP4yX2xS",
        "outputId": "6486c296-2fcd-486e-bde2-06307acff8ea",
        "colab": {
          "base_uri": "https://localhost:8080/"
        }
      },
      "execution_count": 84,
      "outputs": [
        {
          "output_type": "execute_result",
          "data": {
            "text/plain": [
              "<Response [200]>"
            ]
          },
          "metadata": {},
          "execution_count": 84
        }
      ]
    },
    {
      "cell_type": "markdown",
      "source": [
        "#### http://jsonviewer.stack.hu/ (copy json here to view json)"
      ],
      "metadata": {
        "id": "faIENRyFfnY1"
      }
    },
    {
      "cell_type": "code",
      "source": [
        "r = response.json()\n",
        "r"
      ],
      "metadata": {
        "id": "JcLKwg0foR9p",
        "outputId": "a3f179b9-530c-47d8-f790-7ba14b71d51f",
        "colab": {
          "base_uri": "https://localhost:8080/"
        }
      },
      "execution_count": 88,
      "outputs": [
        {
          "output_type": "execute_result",
          "data": {
            "text/plain": [
              "{'currentCount': 10,\n",
              " 'data': [{'cl_han_code': '33000',\n",
              "   'cl_han_nm': '상북면',\n",
              "   'lsmth_irds': -79,\n",
              "   'lsmth_rate': -0.6,\n",
              "   'month': '01',\n",
              "   'popltn_female': 6523,\n",
              "   'popltn_male': 6745,\n",
              "   'popltn_sm': 13268,\n",
              "   'popltn_sr': 3.8,\n",
              "   'year': '2020'},\n",
              "  {'cl_han_code': '33000',\n",
              "   'cl_han_nm': '상북면',\n",
              "   'lsmth_irds': -47,\n",
              "   'lsmth_rate': -0.35,\n",
              "   'month': '02',\n",
              "   'popltn_female': 6502,\n",
              "   'popltn_male': 6719,\n",
              "   'popltn_sm': 13221,\n",
              "   'popltn_sr': 3.8,\n",
              "   'year': '2020'},\n",
              "  {'cl_han_code': '33000',\n",
              "   'cl_han_nm': '상북면',\n",
              "   'lsmth_irds': -11,\n",
              "   'lsmth_rate': -0.08,\n",
              "   'month': '03',\n",
              "   'popltn_female': 6494,\n",
              "   'popltn_male': 6716,\n",
              "   'popltn_sm': 13210,\n",
              "   'popltn_sr': 3.8,\n",
              "   'year': '2020'},\n",
              "  {'cl_han_code': '33000',\n",
              "   'cl_han_nm': '상북면',\n",
              "   'lsmth_irds': -54,\n",
              "   'lsmth_rate': -0.41,\n",
              "   'month': '04',\n",
              "   'popltn_female': 6463,\n",
              "   'popltn_male': 6693,\n",
              "   'popltn_sm': 13156,\n",
              "   'popltn_sr': 3.7,\n",
              "   'year': '2020'},\n",
              "  {'cl_han_code': '33000',\n",
              "   'cl_han_nm': '상북면',\n",
              "   'lsmth_irds': -33,\n",
              "   'lsmth_rate': -0.25,\n",
              "   'month': '05',\n",
              "   'popltn_female': 6445,\n",
              "   'popltn_male': 6678,\n",
              "   'popltn_sm': 13123,\n",
              "   'popltn_sr': 3.7,\n",
              "   'year': '2020'},\n",
              "  {'cl_han_code': '33000',\n",
              "   'cl_han_nm': '상북면',\n",
              "   'lsmth_irds': -30,\n",
              "   'lsmth_rate': -0.23,\n",
              "   'month': '06',\n",
              "   'popltn_female': 6432,\n",
              "   'popltn_male': 6661,\n",
              "   'popltn_sm': 13093,\n",
              "   'popltn_sr': 3.7,\n",
              "   'year': '2020'},\n",
              "  {'cl_han_code': '33000',\n",
              "   'cl_han_nm': '상북면',\n",
              "   'lsmth_irds': -12,\n",
              "   'lsmth_rate': -0.09,\n",
              "   'month': '07',\n",
              "   'popltn_female': 6415,\n",
              "   'popltn_male': 6666,\n",
              "   'popltn_sm': 13081,\n",
              "   'popltn_sr': 3.7,\n",
              "   'year': '2020'},\n",
              "  {'cl_han_code': '33000',\n",
              "   'cl_han_nm': '상북면',\n",
              "   'lsmth_irds': -37,\n",
              "   'lsmth_rate': -0.28,\n",
              "   'month': '08',\n",
              "   'popltn_female': 6403,\n",
              "   'popltn_male': 6653,\n",
              "   'popltn_sm': 13056,\n",
              "   'popltn_sr': 4.0,\n",
              "   'year': '2020'},\n",
              "  {'cl_han_code': '33000',\n",
              "   'cl_han_nm': '상북면',\n",
              "   'lsmth_irds': -13,\n",
              "   'lsmth_rate': -0.1,\n",
              "   'month': '09',\n",
              "   'popltn_female': 6402,\n",
              "   'popltn_male': 6641,\n",
              "   'popltn_sm': 13043,\n",
              "   'popltn_sr': 4.0,\n",
              "   'year': '2020'},\n",
              "  {'cl_han_code': '33000',\n",
              "   'cl_han_nm': '상북면',\n",
              "   'lsmth_irds': -35,\n",
              "   'lsmth_rate': -0.27,\n",
              "   'month': '10',\n",
              "   'popltn_female': 6392,\n",
              "   'popltn_male': 6616,\n",
              "   'popltn_sm': 13008,\n",
              "   'popltn_sr': 4.0,\n",
              "   'year': '2020'}],\n",
              " 'numOfRows': 10,\n",
              " 'pageNo': 1,\n",
              " 'resultCode': 0,\n",
              " 'resultMsg': '정상',\n",
              " 'totalCount': 12}"
            ]
          },
          "metadata": {},
          "execution_count": 88
        }
      ]
    },
    {
      "cell_type": "code",
      "source": [
        "items = r['response']['body']['items']\n",
        "\n",
        "year = [item['year'] for item in items]\n",
        "cl_han_nm = [item['cl_han_nm'] for item in items]\n",
        "popltn_sm = [item['popltn_sm'] for item in items]\n",
        "popltn_male = [item['popltn_male'] for item in items]\n",
        "popltn_female = [item['popltn_female'] for item in items]\n",
        "lsmth_irds = [item['lsmth_irds'] for item in items]\n",
        "\n",
        "\n",
        "year = pd.Series(year)\n",
        "cl_han_nm = pd.Series(cl_han_nm)   \n",
        "popltn_sm = pd.Series(popltn_sm)\n",
        "popltn_male = pd.Series(popltn_male)\n",
        "popltn_female = pd.Series(popltn_female)\n",
        "lsmth_irds = pd.Series(lsmth_irds)\n",
        "\n",
        "\n",
        "df = pd.DataFrame({ 'year': year, 'cl_han_nm': cl_han_nm, 'popltn_sm': popltn_sm, 'popltn_male': popltn_male, 'popltn_female': popltn_female, 'lsmth_irds': lsmth_irds})"
      ],
      "metadata": {
        "id": "W8lA0-IzE55W",
        "outputId": "452e0c4e-9aca-4a95-821a-569c55bf9aca",
        "colab": {
          "base_uri": "https://localhost:8080/",
          "height": 245
        }
      },
      "execution_count": 89,
      "outputs": [
        {
          "output_type": "error",
          "ename": "KeyError",
          "evalue": "ignored",
          "traceback": [
            "\u001b[0;31m---------------------------------------------------------------------------\u001b[0m",
            "\u001b[0;31mKeyError\u001b[0m                                  Traceback (most recent call last)",
            "\u001b[0;32m<ipython-input-89-e0fa88bd0d44>\u001b[0m in \u001b[0;36m<module>\u001b[0;34m()\u001b[0m\n\u001b[0;32m----> 1\u001b[0;31m \u001b[0mitems\u001b[0m \u001b[0;34m=\u001b[0m \u001b[0mr\u001b[0m\u001b[0;34m[\u001b[0m\u001b[0;34m'response'\u001b[0m\u001b[0;34m]\u001b[0m\u001b[0;34m[\u001b[0m\u001b[0;34m'body'\u001b[0m\u001b[0;34m]\u001b[0m\u001b[0;34m[\u001b[0m\u001b[0;34m'items'\u001b[0m\u001b[0;34m]\u001b[0m\u001b[0;34m\u001b[0m\u001b[0;34m\u001b[0m\u001b[0m\n\u001b[0m\u001b[1;32m      2\u001b[0m \u001b[0;34m\u001b[0m\u001b[0m\n\u001b[1;32m      3\u001b[0m \u001b[0myear\u001b[0m \u001b[0;34m=\u001b[0m \u001b[0;34m[\u001b[0m\u001b[0mitem\u001b[0m\u001b[0;34m[\u001b[0m\u001b[0;34m'year'\u001b[0m\u001b[0;34m]\u001b[0m \u001b[0;32mfor\u001b[0m \u001b[0mitem\u001b[0m \u001b[0;32min\u001b[0m \u001b[0mitems\u001b[0m\u001b[0;34m]\u001b[0m\u001b[0;34m\u001b[0m\u001b[0;34m\u001b[0m\u001b[0m\n\u001b[1;32m      4\u001b[0m \u001b[0mcl_han_nm\u001b[0m \u001b[0;34m=\u001b[0m \u001b[0;34m[\u001b[0m\u001b[0mitem\u001b[0m\u001b[0;34m[\u001b[0m\u001b[0;34m'cl_han_nm'\u001b[0m\u001b[0;34m]\u001b[0m \u001b[0;32mfor\u001b[0m \u001b[0mitem\u001b[0m \u001b[0;32min\u001b[0m \u001b[0mitems\u001b[0m\u001b[0;34m]\u001b[0m\u001b[0;34m\u001b[0m\u001b[0;34m\u001b[0m\u001b[0m\n\u001b[1;32m      5\u001b[0m \u001b[0mpopltn_sm\u001b[0m \u001b[0;34m=\u001b[0m \u001b[0;34m[\u001b[0m\u001b[0mitem\u001b[0m\u001b[0;34m[\u001b[0m\u001b[0;34m'popltn_sm'\u001b[0m\u001b[0;34m]\u001b[0m \u001b[0;32mfor\u001b[0m \u001b[0mitem\u001b[0m \u001b[0;32min\u001b[0m \u001b[0mitems\u001b[0m\u001b[0;34m]\u001b[0m\u001b[0;34m\u001b[0m\u001b[0;34m\u001b[0m\u001b[0m\n",
            "\u001b[0;31mKeyError\u001b[0m: 'response'"
          ]
        }
      ]
    },
    {
      "cell_type": "code",
      "source": [
        "def test(cl_han_code):\n",
        "  URL = ('http://apis.data.go.kr/5380000/ys-population/'\n",
        "      'region?'\n",
        "      'cl_han_code='+cl_han_code+\n",
        "      '&start_ym=202001'\n",
        "      '&end_ym=202012'\n",
        "      '&pageNo=1'\n",
        "      '&numOfRows=10'\n",
        "      '&ServiceKey=Lj3CsScBAGAldSaMqptB75vKtCrfm%2Fv%2FmlW2hnz0Waaz4OanXTxutngKbC8OLGBkwAM90QbdRw%2Bzi1bF6BN3bA%3D%3D')\n",
        "  \n",
        "  response = requests.get(URL)\n",
        "  r = response.json()\n",
        "  items = r['response']['body']['items']\n",
        "\n",
        "  year = [item['year'] for item in items]\n",
        "  cl_han_nm = [item['cl_han_nm'] for item in items]\n",
        "  popltn_sm = [item['popltn_sm'] for item in items]\n",
        "  popltn_male = [item['popltn_male'] for item in items]\n",
        "  popltn_female = [item['popltn_female'] for item in items]\n",
        "  lsmth_irds = [item['lsmth_irds'] for item in items]\n",
        "\n",
        "\n",
        "  year = pd.Series(year)\n",
        "  cl_han_nm = pd.Series(cl_han_nm)   \n",
        "  popltn_sm = pd.Series(popltn_sm)\n",
        "  popltn_male = pd.Series(popltn_male)\n",
        "  popltn_female = pd.Series(popltn_female)\n",
        "  lsmth_irds = pd.Series(lsmth_irds)\n",
        "\n",
        "\n",
        "  df = pd.DataFrame({ 'year': year, 'cl_han_nm': cl_han_nm, 'popltn_sm': popltn_sm, 'popltn_male': popltn_male, 'popltn_female': popltn_female, 'lsmth_irds': lsmth_irds})\n",
        "  return df"
      ],
      "metadata": {
        "id": "xa2Gb_qsm_G5"
      },
      "execution_count": 101,
      "outputs": []
    },
    {
      "cell_type": "code",
      "source": [
        "iface = gr.Interface(test, gr.inputs.Dropdown(['31000', '32000', '33000', '34000', '54000', '55000', '56000', '57000', '12000']), outputs=['dataframe'])\n",
        "iface.launch(debug=True)"
      ],
      "metadata": {
        "id": "kxORJVPOnDSP",
        "outputId": "798bbd7c-4c86-4ec3-c231-1f1d86f4f6fc",
        "colab": {
          "base_uri": "https://localhost:8080/",
          "height": 1000
        }
      },
      "execution_count": null,
      "outputs": [
        {
          "output_type": "stream",
          "name": "stdout",
          "text": [
            "Colab notebook detected. This cell will run indefinitely so that you can see errors and logs. To turn off, set debug=False in launch().\n",
            "Running on public URL: https://17393.gradio.app\n",
            "\n",
            "This share link expires in 72 hours. For free permanent hosting, check out Spaces (https://huggingface.co/spaces)\n"
          ]
        },
        {
          "output_type": "display_data",
          "data": {
            "text/plain": [
              "<IPython.lib.display.IFrame at 0x7f80d9375a90>"
            ],
            "text/html": [
              "\n",
              "        <iframe\n",
              "            width=\"900\"\n",
              "            height=\"500\"\n",
              "            src=\"https://17393.gradio.app\"\n",
              "            frameborder=\"0\"\n",
              "            allowfullscreen\n",
              "        ></iframe>\n",
              "        "
            ]
          },
          "metadata": {}
        },
        {
          "output_type": "stream",
          "name": "stderr",
          "text": [
            "Traceback (most recent call last):\n",
            "  File \"/usr/local/lib/python3.7/dist-packages/gradio/routes.py\", line 269, in predict\n",
            "    output = await run_in_threadpool(app.launchable.process_api, body, username)\n",
            "  File \"/usr/local/lib/python3.7/dist-packages/starlette/concurrency.py\", line 39, in run_in_threadpool\n",
            "    return await anyio.to_thread.run_sync(func, *args)\n",
            "  File \"/usr/local/lib/python3.7/dist-packages/anyio/to_thread.py\", line 29, in run_sync\n",
            "    limiter=limiter)\n",
            "  File \"/usr/local/lib/python3.7/dist-packages/anyio/_backends/_asyncio.py\", line 818, in run_sync_in_worker_thread\n",
            "    return await future\n",
            "  File \"/usr/local/lib/python3.7/dist-packages/anyio/_backends/_asyncio.py\", line 754, in run\n",
            "    result = context.run(func, *args)\n",
            "  File \"/usr/local/lib/python3.7/dist-packages/gradio/interface.py\", line 573, in process_api\n",
            "    prediction, durations = self.process(raw_input)\n",
            "  File \"/usr/local/lib/python3.7/dist-packages/gradio/interface.py\", line 616, in process\n",
            "    processed_input, return_duration=True\n",
            "  File \"/usr/local/lib/python3.7/dist-packages/gradio/interface.py\", line 531, in run_prediction\n",
            "    prediction = predict_fn(*processed_input)\n",
            "  File \"<ipython-input-101-ac5f184702f1>\", line 13, in test\n",
            "    items = r['response']['body']['items']\n",
            "KeyError: 'response'\n",
            "Traceback (most recent call last):\n",
            "  File \"/usr/local/lib/python3.7/dist-packages/gradio/routes.py\", line 269, in predict\n",
            "    output = await run_in_threadpool(app.launchable.process_api, body, username)\n",
            "  File \"/usr/local/lib/python3.7/dist-packages/starlette/concurrency.py\", line 39, in run_in_threadpool\n",
            "    return await anyio.to_thread.run_sync(func, *args)\n",
            "  File \"/usr/local/lib/python3.7/dist-packages/anyio/to_thread.py\", line 29, in run_sync\n",
            "    limiter=limiter)\n",
            "  File \"/usr/local/lib/python3.7/dist-packages/anyio/_backends/_asyncio.py\", line 818, in run_sync_in_worker_thread\n",
            "    return await future\n",
            "  File \"/usr/local/lib/python3.7/dist-packages/anyio/_backends/_asyncio.py\", line 754, in run\n",
            "    result = context.run(func, *args)\n",
            "  File \"/usr/local/lib/python3.7/dist-packages/gradio/interface.py\", line 573, in process_api\n",
            "    prediction, durations = self.process(raw_input)\n",
            "  File \"/usr/local/lib/python3.7/dist-packages/gradio/interface.py\", line 616, in process\n",
            "    processed_input, return_duration=True\n",
            "  File \"/usr/local/lib/python3.7/dist-packages/gradio/interface.py\", line 531, in run_prediction\n",
            "    prediction = predict_fn(*processed_input)\n",
            "  File \"<ipython-input-101-ac5f184702f1>\", line 13, in test\n",
            "    items = r['response']['body']['items']\n",
            "KeyError: 'response'\n",
            "Traceback (most recent call last):\n",
            "  File \"/usr/local/lib/python3.7/dist-packages/gradio/routes.py\", line 269, in predict\n",
            "    output = await run_in_threadpool(app.launchable.process_api, body, username)\n",
            "  File \"/usr/local/lib/python3.7/dist-packages/starlette/concurrency.py\", line 39, in run_in_threadpool\n",
            "    return await anyio.to_thread.run_sync(func, *args)\n",
            "  File \"/usr/local/lib/python3.7/dist-packages/anyio/to_thread.py\", line 29, in run_sync\n",
            "    limiter=limiter)\n",
            "  File \"/usr/local/lib/python3.7/dist-packages/anyio/_backends/_asyncio.py\", line 818, in run_sync_in_worker_thread\n",
            "    return await future\n",
            "  File \"/usr/local/lib/python3.7/dist-packages/anyio/_backends/_asyncio.py\", line 754, in run\n",
            "    result = context.run(func, *args)\n",
            "  File \"/usr/local/lib/python3.7/dist-packages/gradio/interface.py\", line 573, in process_api\n",
            "    prediction, durations = self.process(raw_input)\n",
            "  File \"/usr/local/lib/python3.7/dist-packages/gradio/interface.py\", line 616, in process\n",
            "    processed_input, return_duration=True\n",
            "  File \"/usr/local/lib/python3.7/dist-packages/gradio/interface.py\", line 531, in run_prediction\n",
            "    prediction = predict_fn(*processed_input)\n",
            "  File \"<ipython-input-101-ac5f184702f1>\", line 13, in test\n",
            "    items = r['response']['body']['items']\n",
            "KeyError: 'response'\n"
          ]
        }
      ]
    }
  ]
}