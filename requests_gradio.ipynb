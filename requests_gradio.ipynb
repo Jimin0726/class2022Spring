{
  "nbformat": 4,
  "nbformat_minor": 0,
  "metadata": {
    "colab": {
      "name": "requests_gradio.ipynb",
      "provenance": [],
      "include_colab_link": true
    },
    "kernelspec": {
      "name": "python3",
      "display_name": "Python 3"
    },
    "language_info": {
      "name": "python"
    }
  },
  "cells": [
    {
      "cell_type": "markdown",
      "metadata": {
        "id": "view-in-github",
        "colab_type": "text"
      },
      "source": [
        "<a href=\"https://colab.research.google.com/github/Jimin0726/class2022Spring/blob/main/requests_gradio.ipynb\" target=\"_parent\"><img src=\"https://colab.research.google.com/assets/colab-badge.svg\" alt=\"Open In Colab\"/></a>"
      ]
    },
    {
      "cell_type": "code",
      "source": [
        "!pip install gradio\n",
        "import gradio as gr\n",
        "import requests\n",
        "import pandas as pd"
      ],
      "metadata": {
        "colab": {
          "base_uri": "https://localhost:8080/"
        },
        "id": "avwqfCmp4fDK",
        "outputId": "b9cb645f-b5a4-406b-9b31-74b3cde0a963"
      },
      "execution_count": 2,
      "outputs": [
        {
          "output_type": "stream",
          "name": "stdout",
          "text": [
            "Collecting gradio\n",
            "  Downloading gradio-2.9.1-py3-none-any.whl (1.7 MB)\n",
            "\u001b[K     |████████████████████████████████| 1.7 MB 6.6 MB/s \n",
            "\u001b[?25hCollecting ffmpy\n",
            "  Downloading ffmpy-0.3.0.tar.gz (4.8 kB)\n",
            "Collecting pydub\n",
            "  Downloading pydub-0.25.1-py2.py3-none-any.whl (32 kB)\n",
            "Requirement already satisfied: numpy in /usr/local/lib/python3.7/dist-packages (from gradio) (1.21.5)\n",
            "Requirement already satisfied: pillow in /usr/local/lib/python3.7/dist-packages (from gradio) (7.1.2)\n",
            "Requirement already satisfied: pandas in /usr/local/lib/python3.7/dist-packages (from gradio) (1.3.5)\n",
            "Collecting pycryptodome\n",
            "  Downloading pycryptodome-3.14.1-cp35-abi3-manylinux2010_x86_64.whl (2.0 MB)\n",
            "\u001b[K     |████████████████████████████████| 2.0 MB 40.4 MB/s \n",
            "\u001b[?25hCollecting python-multipart\n",
            "  Downloading python-multipart-0.0.5.tar.gz (32 kB)\n",
            "Collecting aiohttp\n",
            "  Downloading aiohttp-3.8.1-cp37-cp37m-manylinux_2_5_x86_64.manylinux1_x86_64.manylinux_2_12_x86_64.manylinux2010_x86_64.whl (1.1 MB)\n",
            "\u001b[K     |████████████████████████████████| 1.1 MB 41.5 MB/s \n",
            "\u001b[?25hCollecting fastapi\n",
            "  Downloading fastapi-0.75.1-py3-none-any.whl (54 kB)\n",
            "\u001b[K     |████████████████████████████████| 54 kB 2.8 MB/s \n",
            "\u001b[?25hCollecting analytics-python\n",
            "  Downloading analytics_python-1.4.0-py2.py3-none-any.whl (15 kB)\n",
            "Collecting paramiko\n",
            "  Downloading paramiko-2.10.3-py2.py3-none-any.whl (211 kB)\n",
            "\u001b[K     |████████████████████████████████| 211 kB 48.0 MB/s \n",
            "\u001b[?25hRequirement already satisfied: requests in /usr/local/lib/python3.7/dist-packages (from gradio) (2.23.0)\n",
            "Collecting uvicorn\n",
            "  Downloading uvicorn-0.17.6-py3-none-any.whl (53 kB)\n",
            "\u001b[K     |████████████████████████████████| 53 kB 1.7 MB/s \n",
            "\u001b[?25hCollecting markdown-it-py[linkify,plugins]\n",
            "  Downloading markdown_it_py-2.0.1-py3-none-any.whl (84 kB)\n",
            "\u001b[K     |████████████████████████████████| 84 kB 2.4 MB/s \n",
            "\u001b[?25hCollecting orjson\n",
            "  Downloading orjson-3.6.7-cp37-cp37m-manylinux_2_24_x86_64.whl (255 kB)\n",
            "\u001b[K     |████████████████████████████████| 255 kB 21.6 MB/s \n",
            "\u001b[?25hRequirement already satisfied: matplotlib in /usr/local/lib/python3.7/dist-packages (from gradio) (3.2.2)\n",
            "Collecting async-timeout<5.0,>=4.0.0a3\n",
            "  Downloading async_timeout-4.0.2-py3-none-any.whl (5.8 kB)\n",
            "Requirement already satisfied: attrs>=17.3.0 in /usr/local/lib/python3.7/dist-packages (from aiohttp->gradio) (21.4.0)\n",
            "Collecting aiosignal>=1.1.2\n",
            "  Downloading aiosignal-1.2.0-py3-none-any.whl (8.2 kB)\n",
            "Collecting frozenlist>=1.1.1\n",
            "  Downloading frozenlist-1.3.0-cp37-cp37m-manylinux_2_5_x86_64.manylinux1_x86_64.manylinux_2_17_x86_64.manylinux2014_x86_64.whl (144 kB)\n",
            "\u001b[K     |████████████████████████████████| 144 kB 49.5 MB/s \n",
            "\u001b[?25hRequirement already satisfied: typing-extensions>=3.7.4 in /usr/local/lib/python3.7/dist-packages (from aiohttp->gradio) (3.10.0.2)\n",
            "Collecting asynctest==0.13.0\n",
            "  Downloading asynctest-0.13.0-py3-none-any.whl (26 kB)\n",
            "Requirement already satisfied: charset-normalizer<3.0,>=2.0 in /usr/local/lib/python3.7/dist-packages (from aiohttp->gradio) (2.0.12)\n",
            "Collecting multidict<7.0,>=4.5\n",
            "  Downloading multidict-6.0.2-cp37-cp37m-manylinux_2_17_x86_64.manylinux2014_x86_64.whl (94 kB)\n",
            "\u001b[K     |████████████████████████████████| 94 kB 3.3 MB/s \n",
            "\u001b[?25hCollecting yarl<2.0,>=1.0\n",
            "  Downloading yarl-1.7.2-cp37-cp37m-manylinux_2_5_x86_64.manylinux1_x86_64.manylinux_2_12_x86_64.manylinux2010_x86_64.whl (271 kB)\n",
            "\u001b[K     |████████████████████████████████| 271 kB 59.8 MB/s \n",
            "\u001b[?25hRequirement already satisfied: idna>=2.0 in /usr/local/lib/python3.7/dist-packages (from yarl<2.0,>=1.0->aiohttp->gradio) (2.10)\n",
            "Requirement already satisfied: six>=1.5 in /usr/local/lib/python3.7/dist-packages (from analytics-python->gradio) (1.15.0)\n",
            "Collecting monotonic>=1.5\n",
            "  Downloading monotonic-1.6-py2.py3-none-any.whl (8.2 kB)\n",
            "Requirement already satisfied: python-dateutil>2.1 in /usr/local/lib/python3.7/dist-packages (from analytics-python->gradio) (2.8.2)\n",
            "Collecting backoff==1.10.0\n",
            "  Downloading backoff-1.10.0-py2.py3-none-any.whl (31 kB)\n",
            "Requirement already satisfied: certifi>=2017.4.17 in /usr/local/lib/python3.7/dist-packages (from requests->gradio) (2021.10.8)\n",
            "Requirement already satisfied: urllib3!=1.25.0,!=1.25.1,<1.26,>=1.21.1 in /usr/local/lib/python3.7/dist-packages (from requests->gradio) (1.24.3)\n",
            "Requirement already satisfied: chardet<4,>=3.0.2 in /usr/local/lib/python3.7/dist-packages (from requests->gradio) (3.0.4)\n",
            "Collecting starlette==0.17.1\n",
            "  Downloading starlette-0.17.1-py3-none-any.whl (58 kB)\n",
            "\u001b[K     |████████████████████████████████| 58 kB 5.9 MB/s \n",
            "\u001b[?25hCollecting pydantic!=1.7,!=1.7.1,!=1.7.2,!=1.7.3,!=1.8,!=1.8.1,<2.0.0,>=1.6.2\n",
            "  Downloading pydantic-1.9.0-cp37-cp37m-manylinux_2_17_x86_64.manylinux2014_x86_64.whl (10.9 MB)\n",
            "\u001b[K     |████████████████████████████████| 10.9 MB 64.2 MB/s \n",
            "\u001b[?25hCollecting anyio<4,>=3.0.0\n",
            "  Downloading anyio-3.5.0-py3-none-any.whl (79 kB)\n",
            "\u001b[K     |████████████████████████████████| 79 kB 7.2 MB/s \n",
            "\u001b[?25hCollecting sniffio>=1.1\n",
            "  Downloading sniffio-1.2.0-py3-none-any.whl (10 kB)\n",
            "Collecting mdurl~=0.1\n",
            "  Downloading mdurl-0.1.0-py3-none-any.whl (11 kB)\n",
            "Collecting mdit-py-plugins\n",
            "  Downloading mdit_py_plugins-0.3.0-py3-none-any.whl (43 kB)\n",
            "\u001b[K     |████████████████████████████████| 43 kB 1.9 MB/s \n",
            "\u001b[?25hCollecting linkify-it-py~=1.0\n",
            "  Downloading linkify_it_py-1.0.3-py3-none-any.whl (19 kB)\n",
            "Collecting uc-micro-py\n",
            "  Downloading uc_micro_py-1.0.1-py3-none-any.whl (6.2 kB)\n",
            "Requirement already satisfied: cycler>=0.10 in /usr/local/lib/python3.7/dist-packages (from matplotlib->gradio) (0.11.0)\n",
            "Requirement already satisfied: pyparsing!=2.0.4,!=2.1.2,!=2.1.6,>=2.0.1 in /usr/local/lib/python3.7/dist-packages (from matplotlib->gradio) (3.0.7)\n",
            "Requirement already satisfied: kiwisolver>=1.0.1 in /usr/local/lib/python3.7/dist-packages (from matplotlib->gradio) (1.4.0)\n",
            "Requirement already satisfied: pytz>=2017.3 in /usr/local/lib/python3.7/dist-packages (from pandas->gradio) (2018.9)\n",
            "Collecting cryptography>=2.5\n",
            "  Downloading cryptography-36.0.2-cp36-abi3-manylinux_2_24_x86_64.whl (3.6 MB)\n",
            "\u001b[K     |████████████████████████████████| 3.6 MB 57.7 MB/s \n",
            "\u001b[?25hCollecting bcrypt>=3.1.3\n",
            "  Downloading bcrypt-3.2.0-cp36-abi3-manylinux_2_17_x86_64.manylinux2014_x86_64.manylinux_2_24_x86_64.whl (61 kB)\n",
            "\u001b[K     |████████████████████████████████| 61 kB 431 kB/s \n",
            "\u001b[?25hCollecting pynacl>=1.0.1\n",
            "  Downloading PyNaCl-1.5.0-cp36-abi3-manylinux_2_17_x86_64.manylinux2014_x86_64.manylinux_2_24_x86_64.whl (856 kB)\n",
            "\u001b[K     |████████████████████████████████| 856 kB 46.0 MB/s \n",
            "\u001b[?25hRequirement already satisfied: cffi>=1.1 in /usr/local/lib/python3.7/dist-packages (from bcrypt>=3.1.3->paramiko->gradio) (1.15.0)\n",
            "Requirement already satisfied: pycparser in /usr/local/lib/python3.7/dist-packages (from cffi>=1.1->bcrypt>=3.1.3->paramiko->gradio) (2.21)\n",
            "Collecting asgiref>=3.4.0\n",
            "  Downloading asgiref-3.5.0-py3-none-any.whl (22 kB)\n",
            "Collecting h11>=0.8\n",
            "  Downloading h11-0.13.0-py3-none-any.whl (58 kB)\n",
            "\u001b[K     |████████████████████████████████| 58 kB 6.3 MB/s \n",
            "\u001b[?25hRequirement already satisfied: click>=7.0 in /usr/local/lib/python3.7/dist-packages (from uvicorn->gradio) (7.1.2)\n",
            "Building wheels for collected packages: ffmpy, python-multipart\n",
            "  Building wheel for ffmpy (setup.py) ... \u001b[?25l\u001b[?25hdone\n",
            "  Created wheel for ffmpy: filename=ffmpy-0.3.0-py3-none-any.whl size=4712 sha256=491a345c8845e2520bd51d20dfac2042ffbb9c705d13ffa5a6dfaa7b290459da\n",
            "  Stored in directory: /root/.cache/pip/wheels/13/e4/6c/e8059816e86796a597c6e6b0d4c880630f51a1fcfa0befd5e6\n",
            "  Building wheel for python-multipart (setup.py) ... \u001b[?25l\u001b[?25hdone\n",
            "  Created wheel for python-multipart: filename=python_multipart-0.0.5-py3-none-any.whl size=31678 sha256=830d1c1ed8e80164ca3fdbd6bb40491e0ab0040f7cda7fa478d2ad8108b0f58e\n",
            "  Stored in directory: /root/.cache/pip/wheels/2c/41/7c/bfd1c180534ffdcc0972f78c5758f89881602175d48a8bcd2c\n",
            "Successfully built ffmpy python-multipart\n",
            "Installing collected packages: sniffio, mdurl, uc-micro-py, multidict, markdown-it-py, frozenlist, anyio, yarl, starlette, pynacl, pydantic, monotonic, mdit-py-plugins, linkify-it-py, h11, cryptography, bcrypt, backoff, asynctest, async-timeout, asgiref, aiosignal, uvicorn, python-multipart, pydub, pycryptodome, paramiko, orjson, ffmpy, fastapi, analytics-python, aiohttp, gradio\n",
            "Successfully installed aiohttp-3.8.1 aiosignal-1.2.0 analytics-python-1.4.0 anyio-3.5.0 asgiref-3.5.0 async-timeout-4.0.2 asynctest-0.13.0 backoff-1.10.0 bcrypt-3.2.0 cryptography-36.0.2 fastapi-0.75.1 ffmpy-0.3.0 frozenlist-1.3.0 gradio-2.9.1 h11-0.13.0 linkify-it-py-1.0.3 markdown-it-py-2.0.1 mdit-py-plugins-0.3.0 mdurl-0.1.0 monotonic-1.6 multidict-6.0.2 orjson-3.6.7 paramiko-2.10.3 pycryptodome-3.14.1 pydantic-1.9.0 pydub-0.25.1 pynacl-1.5.0 python-multipart-0.0.5 sniffio-1.2.0 starlette-0.17.1 uc-micro-py-1.0.1 uvicorn-0.17.6 yarl-1.7.2\n"
          ]
        }
      ]
    },
    {
      "cell_type": "code",
      "source": [
        "URL = ('http://apis.data.go.kr/5380000/ys-population/'\n",
        "      'region?'\n",
        "      'cl_han_code=33000'\n",
        "      '&start_ym=202001'\n",
        "      '&end_ym=202012'\n",
        "      '&pageNo=1'\n",
        "      '&numOfRows=10'\n",
        "      '&ServiceKey=Lj3CsScBAGAldSaMqptB75vKtCrfm%2Fv%2FmlW2hnz0Waaz4OanXTxutngKbC8OLGBkwAM90QbdRw%2Bzi1bF6BN3bA%3D%3D')\n",
        "response = requests.get(URL)"
      ],
      "metadata": {
        "id": "7EiBgZoqPI8V"
      },
      "execution_count": 3,
      "outputs": []
    },
    {
      "cell_type": "code",
      "source": [
        "response"
      ],
      "metadata": {
        "id": "kSgISP4yX2xS",
        "outputId": "40deccee-8361-49d2-ab5a-8a2d09f560c9",
        "colab": {
          "base_uri": "https://localhost:8080/"
        }
      },
      "execution_count": 4,
      "outputs": [
        {
          "output_type": "execute_result",
          "data": {
            "text/plain": [
              "<Response [200]>"
            ]
          },
          "metadata": {},
          "execution_count": 4
        }
      ]
    },
    {
      "cell_type": "markdown",
      "source": [
        "#### http://jsonviewer.stack.hu/ (copy json here to view json)"
      ],
      "metadata": {
        "id": "faIENRyFfnY1"
      }
    },
    {
      "cell_type": "code",
      "source": [
        "r = response.json()\n",
        "r"
      ],
      "metadata": {
        "id": "JcLKwg0foR9p",
        "outputId": "e2a128d1-5c7f-4614-c44f-59ce1a7bd5fa",
        "colab": {
          "base_uri": "https://localhost:8080/"
        }
      },
      "execution_count": 5,
      "outputs": [
        {
          "output_type": "execute_result",
          "data": {
            "text/plain": [
              "{'currentCount': 10,\n",
              " 'data': [{'cl_han_code': '33000',\n",
              "   'cl_han_nm': '상북면',\n",
              "   'lsmth_irds': -79,\n",
              "   'lsmth_rate': -0.6,\n",
              "   'month': '01',\n",
              "   'popltn_female': 6523,\n",
              "   'popltn_male': 6745,\n",
              "   'popltn_sm': 13268,\n",
              "   'popltn_sr': 3.8,\n",
              "   'year': '2020'},\n",
              "  {'cl_han_code': '33000',\n",
              "   'cl_han_nm': '상북면',\n",
              "   'lsmth_irds': -47,\n",
              "   'lsmth_rate': -0.35,\n",
              "   'month': '02',\n",
              "   'popltn_female': 6502,\n",
              "   'popltn_male': 6719,\n",
              "   'popltn_sm': 13221,\n",
              "   'popltn_sr': 3.8,\n",
              "   'year': '2020'},\n",
              "  {'cl_han_code': '33000',\n",
              "   'cl_han_nm': '상북면',\n",
              "   'lsmth_irds': -11,\n",
              "   'lsmth_rate': -0.08,\n",
              "   'month': '03',\n",
              "   'popltn_female': 6494,\n",
              "   'popltn_male': 6716,\n",
              "   'popltn_sm': 13210,\n",
              "   'popltn_sr': 3.8,\n",
              "   'year': '2020'},\n",
              "  {'cl_han_code': '33000',\n",
              "   'cl_han_nm': '상북면',\n",
              "   'lsmth_irds': -54,\n",
              "   'lsmth_rate': -0.41,\n",
              "   'month': '04',\n",
              "   'popltn_female': 6463,\n",
              "   'popltn_male': 6693,\n",
              "   'popltn_sm': 13156,\n",
              "   'popltn_sr': 3.7,\n",
              "   'year': '2020'},\n",
              "  {'cl_han_code': '33000',\n",
              "   'cl_han_nm': '상북면',\n",
              "   'lsmth_irds': -33,\n",
              "   'lsmth_rate': -0.25,\n",
              "   'month': '05',\n",
              "   'popltn_female': 6445,\n",
              "   'popltn_male': 6678,\n",
              "   'popltn_sm': 13123,\n",
              "   'popltn_sr': 3.7,\n",
              "   'year': '2020'},\n",
              "  {'cl_han_code': '33000',\n",
              "   'cl_han_nm': '상북면',\n",
              "   'lsmth_irds': -30,\n",
              "   'lsmth_rate': -0.23,\n",
              "   'month': '06',\n",
              "   'popltn_female': 6432,\n",
              "   'popltn_male': 6661,\n",
              "   'popltn_sm': 13093,\n",
              "   'popltn_sr': 3.7,\n",
              "   'year': '2020'},\n",
              "  {'cl_han_code': '33000',\n",
              "   'cl_han_nm': '상북면',\n",
              "   'lsmth_irds': -12,\n",
              "   'lsmth_rate': -0.09,\n",
              "   'month': '07',\n",
              "   'popltn_female': 6415,\n",
              "   'popltn_male': 6666,\n",
              "   'popltn_sm': 13081,\n",
              "   'popltn_sr': 3.7,\n",
              "   'year': '2020'},\n",
              "  {'cl_han_code': '33000',\n",
              "   'cl_han_nm': '상북면',\n",
              "   'lsmth_irds': -37,\n",
              "   'lsmth_rate': -0.28,\n",
              "   'month': '08',\n",
              "   'popltn_female': 6403,\n",
              "   'popltn_male': 6653,\n",
              "   'popltn_sm': 13056,\n",
              "   'popltn_sr': 4.0,\n",
              "   'year': '2020'},\n",
              "  {'cl_han_code': '33000',\n",
              "   'cl_han_nm': '상북면',\n",
              "   'lsmth_irds': -13,\n",
              "   'lsmth_rate': -0.1,\n",
              "   'month': '09',\n",
              "   'popltn_female': 6402,\n",
              "   'popltn_male': 6641,\n",
              "   'popltn_sm': 13043,\n",
              "   'popltn_sr': 4.0,\n",
              "   'year': '2020'},\n",
              "  {'cl_han_code': '33000',\n",
              "   'cl_han_nm': '상북면',\n",
              "   'lsmth_irds': -35,\n",
              "   'lsmth_rate': -0.27,\n",
              "   'month': '10',\n",
              "   'popltn_female': 6392,\n",
              "   'popltn_male': 6616,\n",
              "   'popltn_sm': 13008,\n",
              "   'popltn_sr': 4.0,\n",
              "   'year': '2020'}],\n",
              " 'numOfRows': 10,\n",
              " 'pageNo': 1,\n",
              " 'resultCode': 0,\n",
              " 'resultMsg': '정상',\n",
              " 'totalCount': 12}"
            ]
          },
          "metadata": {},
          "execution_count": 5
        }
      ]
    },
    {
      "cell_type": "code",
      "source": [
        "items = r['data']\n",
        "\n",
        "year = [item['year'] for item in items]\n",
        "cl_han_nm = [item['cl_han_nm'] for item in items]\n",
        "popltn_sm = [item['popltn_sm'] for item in items]\n",
        "popltn_male = [item['popltn_male'] for item in items]\n",
        "popltn_female = [item['popltn_female'] for item in items]\n",
        "lsmth_irds = [item['lsmth_irds'] for item in items]\n",
        "\n",
        "\n",
        "year = pd.Series(year)\n",
        "cl_han_nm = pd.Series(cl_han_nm)   \n",
        "popltn_sm = pd.Series(popltn_sm)\n",
        "popltn_male = pd.Series(popltn_male)\n",
        "popltn_female = pd.Series(popltn_female)\n",
        "lsmth_irds = pd.Series(lsmth_irds)\n",
        "\n",
        "\n",
        "df = pd.DataFrame({ 'year': year, 'cl_han_nm': cl_han_nm, 'popltn_sm': popltn_sm, 'popltn_male': popltn_male, 'popltn_female': popltn_female, 'lsmth_irds': lsmth_irds})"
      ],
      "metadata": {
        "id": "W8lA0-IzE55W"
      },
      "execution_count": 7,
      "outputs": []
    },
    {
      "cell_type": "code",
      "source": [
        "df"
      ],
      "metadata": {
        "id": "Ls8OhH00-akv"
      },
      "execution_count": null,
      "outputs": []
    },
    {
      "cell_type": "code",
      "source": [
        "def test(cl_han_code):\n",
        "  URL = ('http://apis.data.go.kr/5380000/ys-population/'\n",
        "      'region?'\n",
        "      'cl_han_code='+cl_han_code+\n",
        "      '&start_ym=202001'\n",
        "      '&end_ym=202012'\n",
        "      '&pageNo=1'\n",
        "      '&numOfRows=10'\n",
        "      '&ServiceKey=Lj3CsScBAGAldSaMqptB75vKtCrfm%2Fv%2FmlW2hnz0Waaz4OanXTxutngKbC8OLGBkwAM90QbdRw%2Bzi1bF6BN3bA%3D%3D')\n",
        "  \n",
        "  response = requests.get(URL)\n",
        "  r = response.json()\n",
        "  items = r['data']\n",
        "\n",
        "  year = [item['year'] for item in items]\n",
        "  cl_han_nm = [item['cl_han_nm'] for item in items]\n",
        "  popltn_sm = [item['popltn_sm'] for item in items]\n",
        "  popltn_male = [item['popltn_male'] for item in items]\n",
        "  popltn_female = [item['popltn_female'] for item in items]\n",
        "  lsmth_irds = [item['lsmth_irds'] for item in items]\n",
        "\n",
        "\n",
        "  year = pd.Series(year)\n",
        "  cl_han_nm = pd.Series(cl_han_nm)   \n",
        "  popltn_sm = pd.Series(popltn_sm)\n",
        "  popltn_male = pd.Series(popltn_male)\n",
        "  popltn_female = pd.Series(popltn_female)\n",
        "  lsmth_irds = pd.Series(lsmth_irds)\n",
        "\n",
        "\n",
        "  df = pd.DataFrame({ 'year': year, 'cl_han_nm': cl_han_nm, 'popltn_sm': popltn_sm, 'popltn_male': popltn_male, 'popltn_female': popltn_female, 'lsmth_irds': lsmth_irds})\n",
        "  return df"
      ],
      "metadata": {
        "id": "xa2Gb_qsm_G5"
      },
      "execution_count": 8,
      "outputs": []
    },
    {
      "cell_type": "code",
      "source": [
        "iface = gr.Interface(test, gr.inputs.Dropdown(['31000', '32000', '33000', '34000', '54000', '55000', '56000', '57000']), outputs=['dataframe'])\n",
        "iface.launch(debug=True)"
      ],
      "metadata": {
        "id": "kxORJVPOnDSP",
        "outputId": "9e980b1f-bc39-48e6-a70f-32df69e0a458",
        "colab": {
          "base_uri": "https://localhost:8080/",
          "height": 1000
        }
      },
      "execution_count": null,
      "outputs": [
        {
          "metadata": {
            "tags": null
          },
          "name": "stdout",
          "output_type": "stream",
          "text": [
            "Colab notebook detected. This cell will run indefinitely so that you can see errors and logs. To turn off, set debug=False in launch().\n",
            "Running on public URL: https://13030.gradio.app\n",
            "\n",
            "This share link expires in 72 hours. For free permanent hosting, check out Spaces (https://huggingface.co/spaces)\n"
          ]
        },
        {
          "data": {
            "text/html": [
              "\n",
              "        <iframe\n",
              "            width=\"900\"\n",
              "            height=\"500\"\n",
              "            src=\"https://13030.gradio.app\"\n",
              "            frameborder=\"0\"\n",
              "            allowfullscreen\n",
              "        ></iframe>\n",
              "        "
            ],
            "text/plain": [
              "<IPython.lib.display.IFrame at 0x7f1404f50850>"
            ]
          },
          "metadata": {},
          "output_type": "display_data"
        },
        {
          "output_type": "stream",
          "name": "stderr",
          "text": [
            "Traceback (most recent call last):\n",
            "  File \"/usr/local/lib/python3.7/dist-packages/gradio/routes.py\", line 269, in predict\n",
            "    output = await run_in_threadpool(app.launchable.process_api, body, username)\n",
            "  File \"/usr/local/lib/python3.7/dist-packages/starlette/concurrency.py\", line 39, in run_in_threadpool\n",
            "    return await anyio.to_thread.run_sync(func, *args)\n",
            "  File \"/usr/local/lib/python3.7/dist-packages/anyio/to_thread.py\", line 29, in run_sync\n",
            "    limiter=limiter)\n",
            "  File \"/usr/local/lib/python3.7/dist-packages/anyio/_backends/_asyncio.py\", line 818, in run_sync_in_worker_thread\n",
            "    return await future\n",
            "  File \"/usr/local/lib/python3.7/dist-packages/anyio/_backends/_asyncio.py\", line 754, in run\n",
            "    result = context.run(func, *args)\n",
            "  File \"/usr/local/lib/python3.7/dist-packages/gradio/interface.py\", line 573, in process_api\n",
            "    prediction, durations = self.process(raw_input)\n",
            "  File \"/usr/local/lib/python3.7/dist-packages/gradio/interface.py\", line 616, in process\n",
            "    processed_input, return_duration=True\n",
            "  File \"/usr/local/lib/python3.7/dist-packages/gradio/interface.py\", line 531, in run_prediction\n",
            "    prediction = predict_fn(*processed_input)\n",
            "  File \"<ipython-input-8-ac5f184702f1>\", line 13, in test\n",
            "    items = r['response']['body']['items']\n",
            "KeyError: 'response'\n",
            "Traceback (most recent call last):\n",
            "  File \"/usr/local/lib/python3.7/dist-packages/gradio/routes.py\", line 269, in predict\n",
            "    output = await run_in_threadpool(app.launchable.process_api, body, username)\n",
            "  File \"/usr/local/lib/python3.7/dist-packages/starlette/concurrency.py\", line 39, in run_in_threadpool\n",
            "    return await anyio.to_thread.run_sync(func, *args)\n",
            "  File \"/usr/local/lib/python3.7/dist-packages/anyio/to_thread.py\", line 29, in run_sync\n",
            "    limiter=limiter)\n",
            "  File \"/usr/local/lib/python3.7/dist-packages/anyio/_backends/_asyncio.py\", line 818, in run_sync_in_worker_thread\n",
            "    return await future\n",
            "  File \"/usr/local/lib/python3.7/dist-packages/anyio/_backends/_asyncio.py\", line 754, in run\n",
            "    result = context.run(func, *args)\n",
            "  File \"/usr/local/lib/python3.7/dist-packages/gradio/interface.py\", line 573, in process_api\n",
            "    prediction, durations = self.process(raw_input)\n",
            "  File \"/usr/local/lib/python3.7/dist-packages/gradio/interface.py\", line 616, in process\n",
            "    processed_input, return_duration=True\n",
            "  File \"/usr/local/lib/python3.7/dist-packages/gradio/interface.py\", line 531, in run_prediction\n",
            "    prediction = predict_fn(*processed_input)\n",
            "  File \"<ipython-input-8-ac5f184702f1>\", line 13, in test\n",
            "    items = r['response']['body']['items']\n",
            "KeyError: 'response'\n",
            "Traceback (most recent call last):\n",
            "  File \"/usr/local/lib/python3.7/dist-packages/gradio/routes.py\", line 269, in predict\n",
            "    output = await run_in_threadpool(app.launchable.process_api, body, username)\n",
            "  File \"/usr/local/lib/python3.7/dist-packages/starlette/concurrency.py\", line 39, in run_in_threadpool\n",
            "    return await anyio.to_thread.run_sync(func, *args)\n",
            "  File \"/usr/local/lib/python3.7/dist-packages/anyio/to_thread.py\", line 29, in run_sync\n",
            "    limiter=limiter)\n",
            "  File \"/usr/local/lib/python3.7/dist-packages/anyio/_backends/_asyncio.py\", line 818, in run_sync_in_worker_thread\n",
            "    return await future\n",
            "  File \"/usr/local/lib/python3.7/dist-packages/anyio/_backends/_asyncio.py\", line 754, in run\n",
            "    result = context.run(func, *args)\n",
            "  File \"/usr/local/lib/python3.7/dist-packages/gradio/interface.py\", line 573, in process_api\n",
            "    prediction, durations = self.process(raw_input)\n",
            "  File \"/usr/local/lib/python3.7/dist-packages/gradio/interface.py\", line 616, in process\n",
            "    processed_input, return_duration=True\n",
            "  File \"/usr/local/lib/python3.7/dist-packages/gradio/interface.py\", line 531, in run_prediction\n",
            "    prediction = predict_fn(*processed_input)\n",
            "  File \"<ipython-input-8-ac5f184702f1>\", line 13, in test\n",
            "    items = r['response']['body']['items']\n",
            "KeyError: 'response'\n",
            "Traceback (most recent call last):\n",
            "  File \"/usr/local/lib/python3.7/dist-packages/gradio/routes.py\", line 269, in predict\n",
            "    output = await run_in_threadpool(app.launchable.process_api, body, username)\n",
            "  File \"/usr/local/lib/python3.7/dist-packages/starlette/concurrency.py\", line 39, in run_in_threadpool\n",
            "    return await anyio.to_thread.run_sync(func, *args)\n",
            "  File \"/usr/local/lib/python3.7/dist-packages/anyio/to_thread.py\", line 29, in run_sync\n",
            "    limiter=limiter)\n",
            "  File \"/usr/local/lib/python3.7/dist-packages/anyio/_backends/_asyncio.py\", line 818, in run_sync_in_worker_thread\n",
            "    return await future\n",
            "  File \"/usr/local/lib/python3.7/dist-packages/anyio/_backends/_asyncio.py\", line 754, in run\n",
            "    result = context.run(func, *args)\n",
            "  File \"/usr/local/lib/python3.7/dist-packages/gradio/interface.py\", line 573, in process_api\n",
            "    prediction, durations = self.process(raw_input)\n",
            "  File \"/usr/local/lib/python3.7/dist-packages/gradio/interface.py\", line 616, in process\n",
            "    processed_input, return_duration=True\n",
            "  File \"/usr/local/lib/python3.7/dist-packages/gradio/interface.py\", line 531, in run_prediction\n",
            "    prediction = predict_fn(*processed_input)\n",
            "  File \"<ipython-input-8-ac5f184702f1>\", line 13, in test\n",
            "    items = r['response']['body']['items']\n",
            "KeyError: 'response'\n"
          ]
        }
      ]
    }
  ]
}